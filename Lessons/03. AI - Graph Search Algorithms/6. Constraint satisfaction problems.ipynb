{
 "cells": [
  {
   "cell_type": "markdown",
   "metadata": {},
   "source": [
    "# Constraint Satisfaction Problems\n",
    "As we saw, many AI problems can be modelled as a graph of states that a problem can be in. We then use a search algorithm to find a path in this graph that leads to the solution. One type of problems that can be solved in this manner are Constraint Satisfaction Problems. Constraints are basically conditions that cannot be violated during the process of solving the problem. When we arrive at the final solution, the states of the variables must obey all the constraints. \n",
    "\n",
    "Now, let us try to apply this to some real world problems. We will start with two relatively simple examples."
   ]
  },
  {
   "cell_type": "markdown",
   "metadata": {},
   "source": [
    "## 1. Hello World\n",
    "\n",
    "We could try to implement the search algorithms ourselves (using our knowledge of graphs), but since this would be a little difficult, we will be using a library. Let us first use the python library *python-constraint* to solve a very basic constraint problem.\n",
    "\n",
    "First install the library using following command:"
   ]
  },
  {
   "cell_type": "code",
   "execution_count": 1,
   "metadata": {},
   "outputs": [
    {
     "name": "stdout",
     "output_type": "stream",
     "text": [
      "Requirement already satisfied: python-constraint in /Users/charlesnanakwakye/AI Project/Lessons/AI_env/lib/python3.11/site-packages (1.4.0)\n",
      "Note: you may need to restart the kernel to use updated packages.\n"
     ]
    }
   ],
   "source": [
    "pip install python-constraint"
   ]
  },
  {
   "cell_type": "code",
   "execution_count": 2,
   "metadata": {},
   "outputs": [
    {
     "name": "stdout",
     "output_type": "stream",
     "text": [
      "0\n",
      "1\n",
      "2\n",
      "3\n",
      "4\n"
     ]
    }
   ],
   "source": [
    "# we will use the python range function\n",
    "\n",
    "for i in range(5):\n",
    "    print(i)"
   ]
  },
  {
   "cell_type": "markdown",
   "metadata": {},
   "source": [
    "Now define a constraint problem with two variables within a specific range."
   ]
  },
  {
   "cell_type": "code",
   "execution_count": 3,
   "metadata": {},
   "outputs": [],
   "source": [
    "from constraint import *\n",
    "problem = Problem()\n",
    "\n",
    "problem.addVariable('a', range(8))\n",
    "problem.addVariable('b', range(12))"
   ]
  },
  {
   "cell_type": "markdown",
   "metadata": {},
   "source": [
    "Add the constraint the variables must obey."
   ]
  },
  {
   "cell_type": "code",
   "execution_count": 4,
   "metadata": {},
   "outputs": [],
   "source": [
    "# the lambda expression states that for every solution b must be two times a\n",
    "problem.addConstraint(lambda a, b: a * 2 == b)"
   ]
  },
  {
   "cell_type": "markdown",
   "metadata": {},
   "source": [
    "Let's see what solutions can be found. Check the results! Are the constraints satisfied?"
   ]
  },
  {
   "cell_type": "code",
   "execution_count": 5,
   "metadata": {},
   "outputs": [
    {
     "name": "stdout",
     "output_type": "stream",
     "text": [
      "[{'a': 5, 'b': 10}, {'a': 4, 'b': 8}, {'a': 3, 'b': 6}, {'a': 2, 'b': 4}, {'a': 1, 'b': 2}, {'a': 0, 'b': 0}]\n"
     ]
    }
   ],
   "source": [
    "solutions = problem.getSolutions()\n",
    "print (solutions)"
   ]
  },
  {
   "cell_type": "markdown",
   "metadata": {},
   "source": [
    "## 2. Numbers and values\n",
    "\n",
    "One more simple example before getting to the real stuff. We will be using a package called *simpleai*. It contains various routines that are useful in building solutions using heuristic search techniques.\n",
    "\n",
    "First install the library using following command:"
   ]
  },
  {
   "cell_type": "code",
   "execution_count": 6,
   "metadata": {},
   "outputs": [
    {
     "name": "stdout",
     "output_type": "stream",
     "text": [
      "Requirement already satisfied: simpleai in /Users/charlesnanakwakye/AI Project/Lessons/AI_env/lib/python3.11/site-packages (0.8.3)\n",
      "Note: you may need to restart the kernel to use updated packages.\n"
     ]
    }
   ],
   "source": [
    "pip install simpleai"
   ]
  },
  {
   "cell_type": "code",
   "execution_count": 7,
   "metadata": {},
   "outputs": [
    {
     "name": "stdout",
     "output_type": "stream",
     "text": [
      "{1, 2, 3, 4}\n"
     ]
    }
   ],
   "source": [
    "# we will use the python set function to remove duplicated values in a collection of values\n",
    "\n",
    "print(set({ 1, 2, 3, 1, 2, 4, 3}))"
   ]
  },
  {
   "cell_type": "markdown",
   "metadata": {},
   "source": [
    "We will first import the necessary classes and define the problem."
   ]
  },
  {
   "cell_type": "code",
   "execution_count": 8,
   "metadata": {},
   "outputs": [],
   "source": [
    "from simpleai.search import CspProblem, backtrack\n",
    "\n",
    "# we will try to find the value of four variables named number1, number2, number3, number4\n",
    "variables = ('number1', 'number2', 'number3', 'number4')\n",
    "\n",
    "# the list of values that each variable can take\n",
    "#The values for each variable are chosen arbitrarily by the programmer to illustrate how the CSP solver works. \n",
    "# They are not based on any logic or rule.\n",
    "domains = {\n",
    "    'number1': [1, 2, 3],\n",
    "    'number2': [1, 3],\n",
    "    'number3': [2, 4],\n",
    "    'number4': [2, 3, 4],\n",
    "}\n",
    "\n",
    "# define all the constraints, a constraint is a function with two parameters: variables and values\n",
    "# the constraint returns true if the values obey the constraint, false otherwise\n",
    "\n",
    "# a constraint that expects all the different variables to have different values\n",
    "def constraint_unique(variables, values):\n",
    "    # check if all the values are unique\n",
    "    if len(values) == len(set(values)): # remove repeated values and count\n",
    "        return True\n",
    "    else:\n",
    "        return False\n",
    "\n",
    "# a constraint that expects the first variable to be bigger than the second\n",
    "def constraint_bigger(variables, values):\n",
    "    return values[0] > values[1] # short notation (if-then-else is not necessary)\n",
    "\n",
    "# a constraint that expects two variables to be one odd and the other even\n",
    "def constraint_odd_even(variables, values):\n",
    "    if values[0] % 2 == 0:\n",
    "        return values[1] % 2 == 1  # first even, expect second to be odd\n",
    "    else:\n",
    "        return values[1] % 2 == 0  # first odd, expect second to be even"
   ]
  },
  {
   "cell_type": "markdown",
   "metadata": {},
   "source": [
    "Define the constraints for various scenarios. In this case, we specify three constraints as follows:\n",
    "    \n",
    "1. number1, number2 and number3 should be different values\n",
    "2. number3 should be bigger than number2\n",
    "3. if number1 is odd, then number4 value should be even and vice versa\n",
    "\n",
    "And finaly search for a solution."
   ]
  },
  {
   "cell_type": "code",
   "execution_count": 9,
   "metadata": {},
   "outputs": [
    {
     "name": "stdout",
     "output_type": "stream",
     "text": [
      "\n",
      "Solutions: {'number1': 1, 'number2': 3, 'number3': 4, 'number4': 2}\n"
     ]
    }
   ],
   "source": [
    "constraints = [\n",
    "    (('number1', 'number2', 'number3'), constraint_unique),\n",
    "    (('number3', 'number2'), constraint_bigger),\n",
    "    (('number1', 'number4'), constraint_odd_even),\n",
    "]\n",
    "\n",
    "problem = CspProblem(variables, domains, constraints)\n",
    "\n",
    "output = backtrack(problem)\n",
    "print('\\nSolutions:', output)"
   ]
  },
  {
   "cell_type": "markdown",
   "metadata": {},
   "source": [
    "You can check the __domains__ and the __constraints__ to see if the solutions satisfy all those constraints. By the way, there is more then one solution, the search algorithm stops after finding the first one."
   ]
  },
  {
   "cell_type": "markdown",
   "metadata": {},
   "source": [
    "## 3. Sudoku - Exercise\n",
    "\n",
    "Can you try to solve the following simplified sudoku puzzle? The aim is to fill the grid so that each row, column and box contains the same numbers (1 to 4).\n",
    "\n",
    "<img src=\"./resources/sudoku.png\"  style=\"height: 200px\"/>\n",
    "\n",
    "With a little more programming effort, you could use the same technique to solve a real sudoku (if you don't know what to do this evening)."
   ]
  },
  {
   "cell_type": "code",
   "execution_count": 10,
   "metadata": {},
   "outputs": [
    {
     "ename": "TypeError",
     "evalue": "CspProblem.__init__() missing 1 required positional argument: 'domains'",
     "output_type": "error",
     "traceback": [
      "\u001b[0;31m---------------------------------------------------------------------------\u001b[0m",
      "\u001b[0;31mTypeError\u001b[0m                                 Traceback (most recent call last)",
      "\u001b[1;32m/Users/charlesnanakwakye/AI Project/Lessons/03. AI - Graph Search Algorithms/6. Constraint satisfaction problems.ipynb Cell 20\u001b[0m line \u001b[0;36m6\n\u001b[1;32m     <a href='vscode-notebook-cell:/Users/charlesnanakwakye/AI%20Project/Lessons/03.%20AI%20-%20Graph%20Search%20Algorithms/6.%20Constraint%20satisfaction%20problems.ipynb#X25sZmlsZQ%3D%3D?line=57'>58</a>\u001b[0m puzzle \u001b[39m=\u001b[39m [[\u001b[39m3\u001b[39m, \u001b[39m0\u001b[39m, \u001b[39m0\u001b[39m, \u001b[39m0\u001b[39m],\n\u001b[1;32m     <a href='vscode-notebook-cell:/Users/charlesnanakwakye/AI%20Project/Lessons/03.%20AI%20-%20Graph%20Search%20Algorithms/6.%20Constraint%20satisfaction%20problems.ipynb#X25sZmlsZQ%3D%3D?line=58'>59</a>\u001b[0m           [\u001b[39m4\u001b[39m, \u001b[39m0\u001b[39m, \u001b[39m0\u001b[39m, \u001b[39m0\u001b[39m],\n\u001b[1;32m     <a href='vscode-notebook-cell:/Users/charlesnanakwakye/AI%20Project/Lessons/03.%20AI%20-%20Graph%20Search%20Algorithms/6.%20Constraint%20satisfaction%20problems.ipynb#X25sZmlsZQ%3D%3D?line=59'>60</a>\u001b[0m           [\u001b[39m3\u001b[39m, \u001b[39m0\u001b[39m, \u001b[39m0\u001b[39m, \u001b[39m0\u001b[39m],\n\u001b[1;32m     <a href='vscode-notebook-cell:/Users/charlesnanakwakye/AI%20Project/Lessons/03.%20AI%20-%20Graph%20Search%20Algorithms/6.%20Constraint%20satisfaction%20problems.ipynb#X25sZmlsZQ%3D%3D?line=60'>61</a>\u001b[0m           [\u001b[39m2\u001b[39m, \u001b[39m0\u001b[39m, \u001b[39m0\u001b[39m, \u001b[39m0\u001b[39m]]\n\u001b[1;32m     <a href='vscode-notebook-cell:/Users/charlesnanakwakye/AI%20Project/Lessons/03.%20AI%20-%20Graph%20Search%20Algorithms/6.%20Constraint%20satisfaction%20problems.ipynb#X25sZmlsZQ%3D%3D?line=62'>63</a>\u001b[0m \u001b[39m# Create a Sudoku CSP problem.\u001b[39;00m\n\u001b[0;32m---> <a href='vscode-notebook-cell:/Users/charlesnanakwakye/AI%20Project/Lessons/03.%20AI%20-%20Graph%20Search%20Algorithms/6.%20Constraint%20satisfaction%20problems.ipynb#X25sZmlsZQ%3D%3D?line=63'>64</a>\u001b[0m sudoku_csp \u001b[39m=\u001b[39m SudokuCsp(puzzle)\n\u001b[1;32m     <a href='vscode-notebook-cell:/Users/charlesnanakwakye/AI%20Project/Lessons/03.%20AI%20-%20Graph%20Search%20Algorithms/6.%20Constraint%20satisfaction%20problems.ipynb#X25sZmlsZQ%3D%3D?line=65'>66</a>\u001b[0m \u001b[39m# Solve the Sudoku puzzle using backtracking search.\u001b[39;00m\n\u001b[1;32m     <a href='vscode-notebook-cell:/Users/charlesnanakwakye/AI%20Project/Lessons/03.%20AI%20-%20Graph%20Search%20Algorithms/6.%20Constraint%20satisfaction%20problems.ipynb#X25sZmlsZQ%3D%3D?line=66'>67</a>\u001b[0m solution \u001b[39m=\u001b[39m backtrack(sudoku_csp)\n",
      "\u001b[1;32m/Users/charlesnanakwakye/AI Project/Lessons/03. AI - Graph Search Algorithms/6. Constraint satisfaction problems.ipynb Cell 20\u001b[0m line \u001b[0;36m1\n\u001b[1;32m      <a href='vscode-notebook-cell:/Users/charlesnanakwakye/AI%20Project/Lessons/03.%20AI%20-%20Graph%20Search%20Algorithms/6.%20Constraint%20satisfaction%20problems.ipynb#X25sZmlsZQ%3D%3D?line=8'>9</a>\u001b[0m \u001b[39mdef\u001b[39;00m \u001b[39m__init__\u001b[39m(\u001b[39mself\u001b[39m, puzzle):\n\u001b[0;32m---> <a href='vscode-notebook-cell:/Users/charlesnanakwakye/AI%20Project/Lessons/03.%20AI%20-%20Graph%20Search%20Algorithms/6.%20Constraint%20satisfaction%20problems.ipynb#X25sZmlsZQ%3D%3D?line=9'>10</a>\u001b[0m   \u001b[39msuper\u001b[39;49m()\u001b[39m.\u001b[39;49m\u001b[39m__init__\u001b[39;49m(variables\u001b[39m=\u001b[39;49m\u001b[39mrange\u001b[39;49m(\u001b[39mlen\u001b[39;49m(puzzle) \u001b[39m*\u001b[39;49m \u001b[39mlen\u001b[39;49m(puzzle[\u001b[39m0\u001b[39;49m])),\n\u001b[1;32m     <a href='vscode-notebook-cell:/Users/charlesnanakwakye/AI%20Project/Lessons/03.%20AI%20-%20Graph%20Search%20Algorithms/6.%20Constraint%20satisfaction%20problems.ipynb#X25sZmlsZQ%3D%3D?line=10'>11</a>\u001b[0m                    constraints\u001b[39m=\u001b[39;49m[\u001b[39mself\u001b[39;49m\u001b[39m.\u001b[39;49mrow_constraint, \u001b[39mself\u001b[39;49m\u001b[39m.\u001b[39;49mcol_constraint,\n\u001b[1;32m     <a href='vscode-notebook-cell:/Users/charlesnanakwakye/AI%20Project/Lessons/03.%20AI%20-%20Graph%20Search%20Algorithms/6.%20Constraint%20satisfaction%20problems.ipynb#X25sZmlsZQ%3D%3D?line=11'>12</a>\u001b[0m                              \u001b[39mself\u001b[39;49m\u001b[39m.\u001b[39;49mbox_constraint])\n\u001b[1;32m     <a href='vscode-notebook-cell:/Users/charlesnanakwakye/AI%20Project/Lessons/03.%20AI%20-%20Graph%20Search%20Algorithms/6.%20Constraint%20satisfaction%20problems.ipynb#X25sZmlsZQ%3D%3D?line=12'>13</a>\u001b[0m   \u001b[39mself\u001b[39m\u001b[39m.\u001b[39mpuzzle \u001b[39m=\u001b[39m puzzle\n",
      "\u001b[0;31mTypeError\u001b[0m: CspProblem.__init__() missing 1 required positional argument: 'domains'"
     ]
    }
   ],
   "source": [
    "from simpleai.search import CspProblem, backtrack\n",
    "\n",
    "\n",
    "\n",
    "class SudokuCsp(CspProblem):\n",
    "\n",
    "  \"\"\"A Sudoku constraint satisfaction problem.\"\"\"\n",
    "\n",
    "  def __init__(self, puzzle):\n",
    "    super().__init__(variables=range(len(puzzle) * len(puzzle[0])),\n",
    "                     constraints=[self.row_constraint, self.col_constraint,\n",
    "                               self.box_constraint])\n",
    "    self.puzzle = puzzle\n",
    "\n",
    "  def is_valid(self, assignment):\n",
    "    \"\"\"Checks if an assignment is valid for the Sudoku problem.\"\"\"\n",
    "\n",
    "    # Check if the assignment is complete.\n",
    "    if len(assignment) != len(self.variables):\n",
    "      return False\n",
    "\n",
    "    # Check if the assignment satisfies all of the constraints.\n",
    "    for constraint in self.constraints:\n",
    "      if not constraint(assignment):\n",
    "        return False\n",
    "\n",
    "    return True\n",
    "\n",
    "  def row_constraint(self, assignment):\n",
    "    \"\"\"Checks if the rows of the Sudoku puzzle are valid.\"\"\"\n",
    "\n",
    "    # Get the values of the current row.\n",
    "    row = [assignment[i] for i in range(len(assignment)) if i // len(self.puzzle) == 0]\n",
    "\n",
    "    # Check if all of the values in the row are unique.\n",
    "    return len(set(row)) == len(row)\n",
    "\n",
    "  def col_constraint(self, assignment):\n",
    "    \"\"\"Checks if the columns of the Sudoku puzzle are valid.\"\"\"\n",
    "\n",
    "    # Get the values of the current column.\n",
    "    col = [assignment[i] for i in range(len(assignment)) if i % len(self.puzzle) == 0]\n",
    "\n",
    "    # Check if all of the values in the column are unique.\n",
    "    return len(set(col)) == len(col)\n",
    "\n",
    "  def box_constraint(self, assignment):\n",
    "    \"\"\"Checks if the boxes of the Sudoku puzzle are valid.\"\"\"\n",
    "\n",
    "    # Get the values of the current box.\n",
    "    box = [assignment[i] for i in range(len(assignment)) if i // len(self.puzzle) == 0 and i % len(self.puzzle) == 0]\n",
    "\n",
    "    # Check if all of the values in the box are unique.\n",
    "    return len(set(box)) == len(box)\n",
    "\n",
    "\n",
    "# Load the Sudoku puzzle from the image.\n",
    "puzzle = [[3, 0, 0, 0],\n",
    "          [4, 0, 0, 0],\n",
    "          [3, 0, 0, 0],\n",
    "          [2, 0, 0, 0]]\n",
    "\n",
    "# Create a Sudoku CSP problem.\n",
    "sudoku_csp = SudokuCsp(puzzle)\n",
    "\n",
    "# Solve the Sudoku puzzle using backtracking search.\n",
    "solution = backtrack(sudoku_csp)\n",
    "\n",
    "# Print the solved Sudoku puzzle.\n",
    "print(solution)\n",
    "\n",
    "\n"
   ]
  }
 ],
 "metadata": {
  "kernelspec": {
   "display_name": "Python 3.10.6 ('AI_env': venv)",
   "language": "python",
   "name": "python3"
  },
  "language_info": {
   "codemirror_mode": {
    "name": "ipython",
    "version": 3
   },
   "file_extension": ".py",
   "mimetype": "text/x-python",
   "name": "python",
   "nbconvert_exporter": "python",
   "pygments_lexer": "ipython3",
   "version": "3.11.5"
  },
  "vscode": {
   "interpreter": {
    "hash": "ee412e95a0a5fcd4bc718149b06e63b52799b36d97dd83a114f114becc1d8225"
   }
  }
 },
 "nbformat": 4,
 "nbformat_minor": 2
}
