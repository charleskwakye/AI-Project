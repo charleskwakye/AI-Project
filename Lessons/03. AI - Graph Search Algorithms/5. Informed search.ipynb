{
 "cells": [
  {
   "cell_type": "markdown",
   "metadata": {},
   "source": [
    "# Informed search\n",
    "\n",
    "A heuristic is a rule of thumb which leads us to the probable solution. Most problems in Artificial Intelligence are of exponential nature and have many possible solutions. You do not know exactly which solutions are correct and checking all the solutions would be very expensive.\n",
    "\n",
    "Thus, the use of a heuristic narrows down the search for a solution and eliminates the wrong options. The method of using a heuristic to lead the search in search space is called informed search or heuristic search. Heuristic techniques are very useful because the search can be boosted when you use them.\n",
    "\n",
    "We will discuss only one informed search algorithm, namely the A* search algorithm. It can be seen as an extension of Edsger Dijkstra's algorithm. A* achieves better performance by using heuristics to guide its search.\n",
    "\n",
    "Watch the video (from 0:00 till 04:00) for a general idea of the algorithm. If you are interested in the complete implementation, keep watching until 13:32.\n",
    "\n",
    "<a href=\"https://www.youtube.com/embed/eSOJ3ARN5FM?start=0&end=240\"><img src=\"resources/video4.png\" width=\"400\"></a>"
   ]
  },
  {
   "cell_type": "markdown",
   "metadata": {},
   "source": [
    "## 1. The Manhattan distance\n",
    "\n",
    "In the graph problem, we can use heuristics to guide the search. For example, at each node,\n",
    "we can define a heuristic function that returns a score that represents the estimate of the\n",
    "cost of the path from the current node to the goal (ex. the Manhattan distance). By defining this heuristic function, we are\n",
    "informing the search technique about the right direction to reach the goal. This will allow\n",
    "the algorithm to identify which neighbor will lead to the goal.\n",
    "\n",
    "<img src=\"./resources/manh.png\"  style=\"height: 315px\"/>"
   ]
  },
  {
   "cell_type": "markdown",
   "metadata": {},
   "source": [
    "## 2. Questions\n",
    "\n",
    "1. In what domains the A* algorithm is widely used?"
   ]
  },
  {
   "cell_type": "code",
   "execution_count": null,
   "metadata": {},
   "outputs": [],
   "source": [
    "# 1. Games\n",
    "# 2. Maps\n",
    "# 3. Natural Language Processing\n",
    "\n",
    "#Ref Bing AI - Give me 5 domains that use the A* algorithm"
   ]
  },
  {
   "cell_type": "markdown",
   "metadata": {},
   "source": [
    "2. What extra information does the A* algorithm need to work properly?"
   ]
  },
  {
   "cell_type": "code",
   "execution_count": null,
   "metadata": {},
   "outputs": [],
   "source": [
    "# # answer ?\n",
    "# The A* algorithm is a search algorithm that finds the shortest or optimal path from a start node to a goal node in a graph. The extra information that the A* algorithm needs to work properly is a **heuristic function** . A heuristic function is a function that estimates the cost or distance from any node to the goal node. The heuristic function helps the A* algorithm to prioritize the nodes that are more likely to lead to the goal, and avoid exploring nodes that are far away from the goal. The heuristic function should be **admissible** and **consistent** , meaning that it should never overestimate the actual cost or distance, and it should satisfy the triangle inequality property. For example, if we have a graph that represents a map of cities, and we want to find the shortest route from one city to another, we can use the straight-line distance between the cities as a heuristic function, since it is always lower than or equal to the actual road distance.\n",
    "# REF -> Bing AI \n",
    "#Prompt -> 2. What extra information does the A* algorithm need to work properly?"
   ]
  },
  {
   "cell_type": "markdown",
   "metadata": {},
   "source": [
    "## 3. Heuristics\n",
    "\n",
    "Informed search refers to a search strategy that attempts to optimize the search problem based on a given heuristic function or a cost measure. A heuristic is a rule of thumb that estimates how close a state is to the goal state. A heuristic search method does not always guarantee to find an optimal or the best solution, but may instead find a good or acceptable solution within a reasonable amount of time and memory space. "
   ]
  },
  {
   "cell_type": "markdown",
   "metadata": {},
   "source": [
    "## 4. Activity\n",
    "\n",
    "We name a problem, you suggest a heuristic (an easy to compute approximation of how close you are to the target)\n",
    "\n",
    "1. Problem: Google Maps route-planning\n",
    "\n",
    "    What is a possible heuristic?\n",
    "\n",
    "<img src=\"./resources/maps.png\"  style=\"height: 300px\"/>\n",
    "\n",
    "2. Problem: Find the shortest chain of Facebook friends that goes from Person A to Person B\n",
    "\n",
    "    What is a possible heuristic?\n",
    "\n",
    "<img src=\"./resources/facebook.png\"  style=\"height: 300px\"/>\n",
    "\n",
    "3. Problem: Find a sequence of moves to win a chess game\n",
    "\n",
    "    What is a possible heuristic?\n",
    "    \n",
    "<img src=\"./resources/chess.png\"  style=\"height: 300px\"/>"
   ]
  },
  {
   "cell_type": "code",
   "execution_count": null,
   "metadata": {},
   "outputs": [],
   "source": [
    "# 1.\n",
    "# 2.\n",
    "# 3."
   ]
  }
 ],
 "metadata": {
  "kernelspec": {
   "display_name": "Python 3.10.6 ('AI_env': venv)",
   "language": "python",
   "name": "python3"
  },
  "language_info": {
   "codemirror_mode": {
    "name": "ipython",
    "version": 3
   },
   "file_extension": ".py",
   "mimetype": "text/x-python",
   "name": "python",
   "nbconvert_exporter": "python",
   "pygments_lexer": "ipython3",
   "version": "3.10.6"
  },
  "vscode": {
   "interpreter": {
    "hash": "ee412e95a0a5fcd4bc718149b06e63b52799b36d97dd83a114f114becc1d8225"
   }
  }
 },
 "nbformat": 4,
 "nbformat_minor": 2
}
