{
 "cells": [
  {
   "cell_type": "markdown",
   "metadata": {},
   "source": [
    "# Questions AI (test/exam)\n",
    "\n",
    "Below you will find the questions for the first module. For the exercises (i.e. recursive function, graphs, ...), other data will be used during the test/exam."
   ]
  },
  {
   "cell_type": "markdown",
   "metadata": {},
   "source": [
    "## 1. Introduction\n",
    "\n",
    "1. Games played an important role in the history of AI. Name three computers that defeated human players.\n",
    "2. What are the three driving forces why AI is booming right now?\n",
    "3. Give three giant tech companies which used AI in their applications. What did they use AI for?\n",
    "4. What are the three types of AI (plus a very short explanation)?"
   ]
  },
  {
   "cell_type": "markdown",
   "metadata": {},
   "source": [
    "## 2. Recursion\n",
    "\n",
    "5. What is recursion? Give an example.\n",
    "6. What are the two different cases you need to consider in recursion? Explain.\n",
    "7. Consider the following recursive function: \n",
    "\n",
    "```python\n",
    "def mystery(n):\n",
    "    if n < 10:\n",
    "        return n\n",
    "    else:\n",
    "        a = n // 10  # integer division: 7 // 2 gives 3\n",
    "        b = n % 10   # module or division remainder: 7 % 2 gives 1\n",
    "        return mystery(a + b)\n",
    "```\n",
    "    \n",
    "    What is the result of: \n",
    "\n",
    "```python\n",
    "print(mystery(648))\n",
    "```"
   ]
  },
  {
   "cell_type": "code",
   "execution_count": 2,
   "metadata": {},
   "outputs": [
    {
     "name": "stdout",
     "output_type": "stream",
     "text": [
      "9\n"
     ]
    }
   ],
   "source": [
    "def mystery(n):\n",
    "    if n < 10:\n",
    "        return n\n",
    "    else:\n",
    "        a = n // 10  # integer division: 7 // 2 gives 3\n",
    "        b = n % 10   # module or division remainder: 7 % 2 gives 1\n",
    "        return mystery(a + b)\n",
    "print(mystery(648))"
   ]
  },
  {
   "cell_type": "markdown",
   "metadata": {},
   "source": [
    "5. Recursion refers to the repeated application of a recursive procedure or definition. It calls itself one or more times until a condition is met.\n",
    "\n",
    "6. The two different cases you need to consider in recursion are the base case and the recursive case.\n",
    "\n",
    "The base case is the simplest scenario that does not require further recursion. This is the stopping condition for the recursion, as it prevents the function from calling itself indefinitely. Without a proper base case, a recursive function can lead to infinite recursion12.\n",
    "\n",
    "The recursive case is the set of circumstances where the function calls itself with modified arguments. This is the essence of recursion – solving a larger problem by breaking it down into smaller instances of the same problem. The recursive case should move closer to the base case with each iteration \n",
    "Reference - Bing AI \n",
    "Prompt - \"What are the two different cases you need to consider in recursion? Explain.\"\n",
    "\n",
    "7. 9"
   ]
  },
  {
   "cell_type": "markdown",
   "metadata": {},
   "source": [
    "## 3. Graph Search Algorithms\n",
    "\n",
    "8. Give three examples where a graph can be used to represent/solve real world problems.\n",
    "9. How do you call a node in a graph? How are they connected? What is the difference between a directed graph and an unordered graph?\n",
    "10. Draw the adjacency list and adjacency matrix for the following graph.\n",
    "\n",
    "<img src=\"./resources/graph.png\"  style=\"height: 100px\"/>\n",
    "\n",
    "11. Search algorithms are divided into two categories. Can you name them (plus a very short explanation)?\n",
    "12. Consider the following directed graph. Starting at vertex 0, what would be the path followed if you searched all the other vertices using the two different search strategies (assuming numerical edge order)?\n",
    "\n",
    "<img src=\"./resources/graph1.png\"  style=\"height: 200px\"/>\n",
    "\n",
    "13. Calculate the shortest path between node A and the other nodes in our graph by applying the shortest path algorithm.\n",
    "\n",
    "<img src=\"./resources/dijkstra.png\"  style=\"height: 150px\"/>\n",
    "\n",
    "14. Name three domains where the A* algorithm is widely used.\n",
    "15. What is a heuristic?"
   ]
  },
  {
   "cell_type": "markdown",
   "metadata": {},
   "source": [
    "## 4. Games with AI\n",
    "\n",
    "16. What will be the value of the final node when both players play perfectly? Remember: A wants to land at the highest value, B at the lowest.\n",
    "\n",
    "<img src=\"./resources/minimax.png\"  style=\"height: 250px\"/>\n",
    "\n",
    "17. What is the branching factor for the following games (The simple path game, Tic Tac Toe, Chess)? Is it uniform or not? If not, what is the average branching factor?\n",
    "18. Draw the game tree for the following initial (Tic Tac Toe) game state. X plays first\n",
    "\n",
    "<img src=\"./resources/tictactoe.png\"  style=\"height: 100px\"/>"
   ]
  },
  {
   "cell_type": "markdown",
   "metadata": {},
   "source": [
    "## 5. Logic Programming\n",
    "\n",
    "19. Name three important programming paradigms (plus a very short explanation).\n",
    "20. Can you give a visual metaphor for these four programming paradigms (Imperative programming, Object-oriented programming, Functional programming, Logical programming)? Give also an example language.\n",
    "21. What are the building blocks of logic programming? Give a brief explanation.\n",
    "22. What is the difference between imperative and declarative programming?\n",
    "23. Consider the following programming languages (Java, SQL, Prolog, Python). How would you solve a problem in those langugages (by describing the HOW or the WHAT)?"
   ]
  }
 ],
 "metadata": {
  "kernelspec": {
   "display_name": "Python 3",
   "language": "python",
   "name": "python3"
  },
  "language_info": {
   "codemirror_mode": {
    "name": "ipython",
    "version": 3
   },
   "file_extension": ".py",
   "mimetype": "text/x-python",
   "name": "python",
   "nbconvert_exporter": "python",
   "pygments_lexer": "ipython3",
   "version": "3.11.5"
  }
 },
 "nbformat": 4,
 "nbformat_minor": 2
}
