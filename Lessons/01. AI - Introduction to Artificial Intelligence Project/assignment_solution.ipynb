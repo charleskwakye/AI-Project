{
 "cells": [
  {
   "cell_type": "markdown",
   "metadata": {},
   "source": [
    "# Charles Nana  Kwakye (r0879035) Cryptoarithmetic Puzzle solution\n",
    "\n",
    "### Live Streamlit App - https://charles-cryptographic-puzzle-solver.streamlit.app/\n",
    "\n",
    "Brief Assignment: Use simpleai to solve cryptoarithmetic puzzles. \n",
    "The assignment objective is to develop a program that can solve cryptarithmetic puzzles. Cryptarithmetic puzzles are word problems that use numbers to represent letters, and the goal is to find the correct numerical values for the letters so that the equation in the puzzle is true. The program should allow the user to enter the cryptarithmetic puzzle as input, and the program will then generate the appropriate constraints and solve them to generate a solution. The program should also be well-commented and have a clear structure.\n",
    "\n",
    "- Ref: Bard AI:\n",
    "- Prompt 1: Go to my latest google doc called assignment and give me a summary or brief to use in my assignment report\n",
    "- Prompt 2: Can you give some substantial amount of brief\n",
    "\n"
   ]
  },
  {
   "cell_type": "markdown",
   "metadata": {},
   "source": [
    "- Import simpleai and use it to implement and backtracing \n",
    "- Import regex and use to search for a pattern in a text since this solution requires a user input"
   ]
  },
  {
   "cell_type": "code",
   "execution_count": 1,
   "metadata": {},
   "outputs": [],
   "source": [
    "#import simple and CspProblem\n",
    "from simpleai.search import CspProblem, backtrack\n",
    "import re #import regex"
   ]
  },
  {
   "cell_type": "markdown",
   "metadata": {},
   "source": [
    "# Perform some processing on the user input \n",
    "Expample of such processing are: \n",
    "- Remove the spaces in the input\n",
    "- Divide the equation into parts\n",
    "- Find some parts in the equation\n",
    "- Find the variables of the equation etc\n",
    "\n",
    "Ref: Bing AI\n",
    "Prompt: Give me a regex code that finds words from an equation example SEND+MORE=MONEY should give me SEND,MORE,MONEY\n"
   ]
  },
  {
   "cell_type": "code",
   "execution_count": 2,
   "metadata": {},
   "outputs": [],
   "source": [
    "user_input = input(\"Enter a cryptographic puzzle\")# Ask for a user input in the console\n",
    "user_input = user_input.replace(\" \", \"\") #remove spaces in the input by replace space with no spaces\n",
    "\n",
    "equal_sign_index = user_input.index(\"=\") # find the index of the equal to sign in the equation\n",
    "\n",
    "factor = user_input[:equal_sign_index+1] #slice the left hand side of the equation up to and including the equal to sign and assign it to factor\n",
    "result = user_input[equal_sign_index+1:] # slice the right hand from the equal to sign with the equal to and assign it to result\n",
    "\n",
    "\n",
    "all_words = re.findall(\"[a-zA-Z]+\", user_input) # Use regex expression to find a list of strings that contains the words in the user input\n",
    "\n",
    "not_zero_letters = set([word[0] for word in all_words]) # Create a set of letters that can not be zero by taking the first letter of the words\n",
    "\n",
    "variables = tuple(set(tuple(input_str for s in all_words for input_str in s))) # remove all duplicate letters in the variable\n"
   ]
  },
  {
   "cell_type": "markdown",
   "metadata": {},
   "source": [
    "Create a dictionary domain, this is a list of values that each variable can take. They should be selected based on the position of the characted in the equation"
   ]
  },
  {
   "cell_type": "code",
   "execution_count": 3,
   "metadata": {},
   "outputs": [],
   "source": [
    "\n",
    "domains = {} #Create an empty dictionary to store domains since we already know domains are stored in a dictionary\n",
    "\n",
    "# for each variable assign a list of range 1 to 10 if this variable is in the not_zero_letters set we created earlier on\n",
    "#  or else  if it is not present in the not_zero_letter set then assign a from 0-9\n",
    "for variable in variables:\n",
    "    if variable in not_zero_letters:\n",
    "        domains[variable] = list(range(1, 10))\n",
    "    else:\n",
    "        domains[variable] = list(range(0, 10))"
   ]
  },
  {
   "cell_type": "markdown",
   "metadata": {},
   "source": [
    "# Section to make a unique constraint i.e every value is supposed to be different\n",
    "- Make a constraint function that would expect all different variable to have a different value\n"
   ]
  },
  {
   "cell_type": "code",
   "execution_count": 4,
   "metadata": {},
   "outputs": [],
   "source": [
    "\n",
    "def constraint_unique(variables, values):\n",
    "    return len(values) == len(set(values))  # remove repeated values and count"
   ]
  },
  {
   "cell_type": "markdown",
   "metadata": {},
   "source": [
    "# Section to generate dynamic constraint\n",
    "This section is how I converted the user input would consist of alphabets and operators. I had to convert this into a mathematical expression that can be evaluated. The value of the result is needed to compare the left side of the equation to the right side over the \"=\" sign. To do this I had to go over these steps\n",
    "- Loop through each character in the factor, which is the left side of the equal sign\n",
    "- If the character is a letter, find its index in the tuple of variables and append the corresponding value to a string called processed_factor\n",
    "- If the character is an operator, add the processed_factor to a list of integers called int_list_processed_factor and add the operator to a list of strings called str_list_processed_operations. Then reset the processed_factor to an empty string\n",
    "- Loop through each character in the result, which is the right side of the equal sign\n",
    "- If the character is a letter, find its index in the tuple of variables and append the corresponding value to a string called processed_result\n",
    "- Convert the processed_result to an integer and store it in a variable called int_processed_result\n",
    "- Initialize an empty string to store the expression\n",
    "- Loop through the int_list_processed_factor and str_list_processed_operations lists and concatenate them into a string\n",
    "- Evaluate the string as a mathematical expression and compare it with the int_processed_result\n",
    "- Return True if they are equal, False otherwise\n",
    "\n",
    "Ref: Bing AI. How to combine two list in python\n",
    "- Prompt: I have two lists in python list_1= [\"x\",\"y\",\"z\"] and list_2 =[\"+\",\"-\"] give me a python code that can combine both into something like x +y-z\n",
    "\n",
    "Ref: Bing AI.\n",
    "- NB : After writing the code making the code. Writing the explanation was a little tiring so I asked bing to explain the steps of the code.\n",
    "- Prompt: Can you explain the def constraint_dynamic_operation of this code in steps\n"
   ]
  },
  {
   "cell_type": "code",
   "execution_count": 5,
   "metadata": {},
   "outputs": [],
   "source": [
    "def constraint_dynamic_operation(variables, values):\n",
    "    int_list_processed_factor = [] # create a list to hold each factor, that is the part of the equation separated by operations or the words of the equation\n",
    "    str_list_processed_operations =[] # create a list to hold the operations of the equation\n",
    "    int_processed_result = int # create anothe list to hold only integers. this is answer to the problem or the right hand side of the equation, the right of the equal to sign\n",
    "    processed_factor = \"\" # a string variable to hold a string of factor(word)\n",
    "    processed_result = \"\" # a string variable to hold the result\n",
    "    for char in factor:\n",
    "    # if the character is a letter, find its index in the tuple and append it to the processed factor string variable\n",
    "        if char.isalpha():\n",
    "            processed_factor += str(values[variables.index(char)])\n",
    "    #else convert if to an integer and add it to the processed factor\n",
    "        else:\n",
    "            int_list_processed_factor.append(int(processed_factor))\n",
    "            #  if the character is an eqaul to sign, convert it to a string add it to the list of string operations\n",
    "            if char != \"=\":\n",
    "                str_list_processed_operations.append(str(char))\n",
    "                # empty the processed factor string \n",
    "            processed_factor = \"\"\n",
    "            \n",
    "    #loop over each character in the result, find matching value using the index of the character in the tuple of variables. \n",
    "    #Convert this to a string and append it to processed result\n",
    "    for char in result:\n",
    "        processed_result += str(values[variables.index(char)])\n",
    "    int_processed_result = int(processed_result) # finally convert everything to an integer\n",
    "\n",
    "    # make an empty string variable,for the range of the length of the int_list_processed_factor loop through the int list_processed_factor and concatenate their elements to a string. \n",
    "    string = \"\"\n",
    "    for i in range(len(int_list_processed_factor)):\n",
    "        string+= str(int_list_processed_factor[i])\n",
    "        if i < len(str_list_processed_operations):\n",
    "            string+= str_list_processed_operations[i]\n",
    "    #use built in python function to evaluate this string and compare the string to the result of the equation\n",
    "    return eval(string)== int_processed_result # return true if they are equal and false if they are not"
   ]
  },
  {
   "cell_type": "markdown",
   "metadata": {},
   "source": [
    "# Section to create the CspProblem object.\n",
    "- The three major components needed are variables, domains, and constraints.\n",
    "- The constraints are first created using the variables generated earlier on and the functions created \n",
    "- The problem is created usign the the variables,domains which were all generated earlier and the just now created constraints\n"
   ]
  },
  {
   "cell_type": "code",
   "execution_count": 6,
   "metadata": {},
   "outputs": [],
   "source": [
    "#generate the constraint first and use it to create a csp problem\n",
    "constraints = [\n",
    "    (variables, constraint_unique),\n",
    "    (variables, constraint_dynamic_operation)\n",
    "]\n",
    "\n",
    "\n",
    "problem = CspProblem(variables, domains, constraints)"
   ]
  },
  {
   "cell_type": "markdown",
   "metadata": {},
   "source": [
    "# Backtrack using cspProblem\n",
    "The backtrack function is a recursive algorithm that tries to assign values to variables one by one, and backtracks if it encounters a conflict. The output of the backtrack function is a dictionary that maps each variable name to a value that satisfies the constraints, or None if no solution exists.\n",
    "\n",
    "Ref : Bing AI\n",
    "Prompt: I have a dictionary example like {'N': 0, 'V': 3, 'O': 6, 'D': 5, 'E': 1}, I also have a string like this ODD+ODD=EVEN use each character to get the value from the diction so  I should have something like this  655+755 = 1310  ni return. Give me a python code to do this."
   ]
  },
  {
   "cell_type": "code",
   "execution_count": 7,
   "metadata": {},
   "outputs": [
    {
     "name": "stdout",
     "output_type": "stream",
     "text": [
      "\n",
      "Solutions: {'D': 5, 'E': 1, 'O': 6, 'N': 0, 'V': 3}\n",
      "655+655=1310\n",
      "ODD+ODD=EVEN\n"
     ]
    }
   ],
   "source": [
    "# create an output variable and call the backtract algorithm on the cspProblem\n",
    "output = backtrack(problem)\n",
    "\n",
    "#create an empty string variable to hold the keys in the form of the equation of the user input\n",
    "nums_output = \"\"\n",
    "\n",
    "# for each variable in the user input, if the variable is a character use it as a key to get the value from the output of the csp problem\n",
    "#convert it to a string and add it to the nums_output\n",
    "for char in user_input:\n",
    "    if char.isalpha():\n",
    "        nums_output+= str(output.get(char))\n",
    "    else: # if its not an alphabet add it directly to the nums output\n",
    "        nums_output+=char\n",
    "print('\\nSolutions:', output)\n",
    "print(nums_output)\n",
    "print(user_input)\n"
   ]
  },
  {
   "cell_type": "markdown",
   "metadata": {},
   "source": [
    "`This assignment is based on the work of Charles Nana Kwakye by the help of Bing AI and Bard AI .`"
   ]
  }
 ],
 "metadata": {
  "kernelspec": {
   "display_name": "Python 3.10.7 64-bit",
   "language": "python",
   "name": "python3"
  },
  "language_info": {
   "codemirror_mode": {
    "name": "ipython",
    "version": 3
   },
   "file_extension": ".py",
   "mimetype": "text/x-python",
   "name": "python",
   "nbconvert_exporter": "python",
   "pygments_lexer": "ipython3",
   "version": "3.11.5"
  },
  "vscode": {
   "interpreter": {
    "hash": "495ae52d0bdace51a6155b402a7938e77bd87f1fa94bc737a5c61e09660be6b7"
   }
  }
 },
 "nbformat": 4,
 "nbformat_minor": 2
}
